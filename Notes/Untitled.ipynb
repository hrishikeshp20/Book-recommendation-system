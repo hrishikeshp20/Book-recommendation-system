{
 "cells": [
  {
   "cell_type": "code",
   "execution_count": null,
   "id": "461eed66",
   "metadata": {},
   "outputs": [],
   "source": [
    "4 Parts\n",
    "1. What is recommendaton system?\n",
    "2. Model buidling on data\n",
    "3. Deploy model on website\n",
    "4. Deploy on heroko"
   ]
  },
  {
   "cell_type": "code",
   "execution_count": null,
   "id": "d8bf76fa",
   "metadata": {},
   "outputs": [],
   "source": []
  },
  {
   "cell_type": "code",
   "execution_count": null,
   "id": "4017d0c0",
   "metadata": {},
   "outputs": [],
   "source": [
    "4 type of recommender system\n",
    "1. Popularity based\n",
    "   Just like trending and top 50\n",
    "2.Content based recommender system\n",
    "   similarity based\n",
    "3. Collabrative based\n",
    "   Users liking based, ratings based\n",
    "4. Hybrid based\n",
    "   combination of all above 3\n"
   ]
  },
  {
   "cell_type": "code",
   "execution_count": null,
   "id": "9a5e1276",
   "metadata": {},
   "outputs": [],
   "source": [
    "Popularity based system is based on formula"
   ]
  },
  {
   "cell_type": "code",
   "execution_count": null,
   "id": "7f4f52b5",
   "metadata": {},
   "outputs": [],
   "source": [
    "Content based system\n",
    "gets attributes like cast, actor, producer, etc\n",
    "and based on those attributes finds similar attributes in other movies and recommends it.\n",
    "Eg. movie of iron man where Robert Drowney is actor, now it will find another movie where Robert is the actor"
   ]
  },
  {
   "cell_type": "code",
   "execution_count": null,
   "id": "719743a3",
   "metadata": {},
   "outputs": [],
   "source": []
  }
 ],
 "metadata": {
  "kernelspec": {
   "display_name": "Python 3 (ipykernel)",
   "language": "python",
   "name": "python3"
  },
  "language_info": {
   "codemirror_mode": {
    "name": "ipython",
    "version": 3
   },
   "file_extension": ".py",
   "mimetype": "text/x-python",
   "name": "python",
   "nbconvert_exporter": "python",
   "pygments_lexer": "ipython3",
   "version": "3.11.3"
  }
 },
 "nbformat": 4,
 "nbformat_minor": 5
}
